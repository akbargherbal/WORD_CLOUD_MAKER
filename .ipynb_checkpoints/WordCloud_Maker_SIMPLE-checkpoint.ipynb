{
 "cells": [
  {
   "cell_type": "code",
   "execution_count": 4,
   "metadata": {},
   "outputs": [],
   "source": [
    "from pathlib import Path"
   ]
  },
  {
   "cell_type": "code",
   "execution_count": 37,
   "metadata": {},
   "outputs": [],
   "source": [
    "from random import choice"
   ]
  },
  {
   "cell_type": "code",
   "execution_count": 5,
   "metadata": {},
   "outputs": [
    {
     "name": "stdout",
     "output_type": "stream",
     "text": [
      "Starting...\n",
      "Current Time = 00:25:55.244574\n"
     ]
    }
   ],
   "source": [
    "from datetime import datetime\n",
    "def time_now():\n",
    "    '''Get Current Time'''\n",
    "    \n",
    "    now = datetime.now()\n",
    "    current_time = now.strftime(\"%H:%M:%S.%f\")\n",
    "    print(\"Current Time =\", current_time)\n",
    "    return now\n",
    "\n",
    "\n",
    "############\n",
    "print('Starting...')\n",
    "start = time_now()\n",
    "\n",
    "\n",
    "import swifter\n",
    "\n",
    "import pandas as pd\n",
    "\n",
    "import regex as re\n",
    "\n",
    "from itertools import chain\n",
    "\n",
    "from collections import Counter\n",
    "\n",
    "\n",
    "import os"
   ]
  },
  {
   "cell_type": "code",
   "execution_count": 6,
   "metadata": {},
   "outputs": [],
   "source": [
    "import wordcloud\n",
    "\n",
    "from wordcloud import WordCloud, STOPWORDS, ImageColorGenerator\n",
    "import matplotlib\n",
    "import matplotlib.pyplot as plt\n",
    "\n",
    "akbar_colors = ['#009933',\n",
    " '#006699',\n",
    " '#333333',\n",
    " '#669999',\n",
    " '#990066',\n",
    " '#996666',\n",
    " '#cc3333',\n",
    " '#cc6633',\n",
    " '#cc6666',\n",
    " '#ff6633',\n",
    " '#990000',\n",
    " '#003366',\n",
    " '#339966',\n",
    " '#cc3399',\n",
    " '#3333ff']\n",
    "\n",
    "background_color = ['#F4ECF7', '#F5EEF8', '#E8F8F5', '#F9EBEA', '#EBF5FB', '#EBF5FB']"
   ]
  },
  {
   "cell_type": "code",
   "execution_count": 8,
   "metadata": {},
   "outputs": [
    {
     "data": {
      "text/plain": [
       "'C:\\\\Users\\\\gherb\\\\Jupyter_Notebooks\\\\Arab_Steel_Summit\\\\WORD_CLOUD_MAKER'"
      ]
     },
     "execution_count": 8,
     "metadata": {},
     "output_type": "execute_result"
    }
   ],
   "source": [
    "pwd"
   ]
  },
  {
   "cell_type": "code",
   "execution_count": 9,
   "metadata": {},
   "outputs": [
    {
     "name": "stdin",
     "output_type": "stream",
     "text": [
      "Where to save WordClouds?\n",
      "Give a name for the directory!\n",
      " WORD_CLOUDS\n"
     ]
    },
    {
     "name": "stdout",
     "output_type": "stream",
     "text": [
      "Results are in WORD_CLOUDS folder\n"
     ]
    }
   ],
   "source": [
    "wc_dir = input('''Where to save WordClouds?\n",
    "Give a name for the directory!\n",
    "''')\n",
    "Path(wc_dir).mkdir(parents=True, exist_ok=True)\n",
    "wc_dir = re.sub(r'[\\/\\.]+', '', wc_dir)\n",
    "print(f'Results are in {wc_dir} folder')"
   ]
  },
  {
   "cell_type": "code",
   "execution_count": null,
   "metadata": {},
   "outputs": [],
   "source": []
  },
  {
   "cell_type": "code",
   "execution_count": 40,
   "metadata": {},
   "outputs": [],
   "source": [
    "from wordcloud import WordCloud\n",
    "from random import choice\n"
   ]
  },
  {
   "cell_type": "code",
   "execution_count": null,
   "metadata": {},
   "outputs": [],
   "source": []
  },
  {
   "cell_type": "code",
   "execution_count": 20,
   "metadata": {},
   "outputs": [],
   "source": [
    "fonts_dir = input('''\n",
    "Enter path to fonts folder:\n",
    "''')\n",
    "\n",
    "while Path(fonts_dir).is_dir() == False:\n",
    "    fonts_dir = input('''\n",
    "You entered an invalid folder path; enter a valid folder!\n",
    "''')"
   ]
  },
  {
   "cell_type": "code",
   "execution_count": 24,
   "metadata": {},
   "outputs": [],
   "source": [
    "fonts = [i for i in os.listdir(f'{fonts_dir}') if ('bold' not in i.lower()) and (i.endswith('.ttf'))  and ('thin' not in i.lower())]\n",
    "fonts = [rf'{fonts_dir}{i}' for i in fonts]\n",
    "fonts = [i.replace('\\\\', '/') for i in fonts]"
   ]
  },
  {
   "cell_type": "code",
   "execution_count": 25,
   "metadata": {},
   "outputs": [
    {
     "data": {
      "text/plain": [
       "['../../DATASETS/Selected_Fonts/ArchitectsDaughter-Regular.ttf',\n",
       " '../../DATASETS/Selected_Fonts/BalsamiqSans-Italic.ttf',\n",
       " '../../DATASETS/Selected_Fonts/BalsamiqSans-Regular.ttf',\n",
       " '../../DATASETS/Selected_Fonts/ConcertOne-Regular.ttf',\n",
       " '../../DATASETS/Selected_Fonts/Courgette-Regular.ttf',\n",
       " '../../DATASETS/Selected_Fonts/EBGaramond-Italic-VariableFont_wght.ttf',\n",
       " '../../DATASETS/Selected_Fonts/EBGaramond-Medium.ttf',\n",
       " '../../DATASETS/Selected_Fonts/EBGaramond-MediumItalic.ttf',\n",
       " '../../DATASETS/Selected_Fonts/EBGaramond-Regular.ttf',\n",
       " '../../DATASETS/Selected_Fonts/EBGaramond-VariableFont_wght.ttf',\n",
       " '../../DATASETS/Selected_Fonts/FiraSans-Italic.ttf',\n",
       " '../../DATASETS/Selected_Fonts/FiraSans-Medium.ttf',\n",
       " '../../DATASETS/Selected_Fonts/FiraSans-MediumItalic.ttf',\n",
       " '../../DATASETS/Selected_Fonts/FiraSans-Regular.ttf',\n",
       " '../../DATASETS/Selected_Fonts/GloriaHallelujah-Regular.ttf',\n",
       " '../../DATASETS/Selected_Fonts/IndieFlower-Regular.ttf',\n",
       " '../../DATASETS/Selected_Fonts/Itim-Regular.ttf',\n",
       " '../../DATASETS/Selected_Fonts/JosefinSans-Italic.ttf',\n",
       " '../../DATASETS/Selected_Fonts/JosefinSans-Medium.ttf',\n",
       " '../../DATASETS/Selected_Fonts/JosefinSans-MediumItalic.ttf',\n",
       " '../../DATASETS/Selected_Fonts/JosefinSans-Regular.ttf',\n",
       " '../../DATASETS/Selected_Fonts/Kalam-Regular.ttf',\n",
       " '../../DATASETS/Selected_Fonts/Kanit-Italic.ttf',\n",
       " '../../DATASETS/Selected_Fonts/Kanit-Medium.ttf',\n",
       " '../../DATASETS/Selected_Fonts/Kanit-MediumItalic.ttf',\n",
       " '../../DATASETS/Selected_Fonts/Kanit-Regular.ttf',\n",
       " '../../DATASETS/Selected_Fonts/KaushanScript-Regular.ttf',\n",
       " '../../DATASETS/Selected_Fonts/Lobster-Regular.ttf',\n",
       " '../../DATASETS/Selected_Fonts/LobsterTwo-Italic.ttf',\n",
       " '../../DATASETS/Selected_Fonts/LobsterTwo-Regular.ttf',\n",
       " '../../DATASETS/Selected_Fonts/Lora-Italic-VariableFont_wght.ttf',\n",
       " '../../DATASETS/Selected_Fonts/Lora-Italic.ttf',\n",
       " '../../DATASETS/Selected_Fonts/Lora-Medium.ttf',\n",
       " '../../DATASETS/Selected_Fonts/Lora-MediumItalic.ttf',\n",
       " '../../DATASETS/Selected_Fonts/Lora-Regular.ttf',\n",
       " '../../DATASETS/Selected_Fonts/Lora-VariableFont_wght.ttf',\n",
       " '../../DATASETS/Selected_Fonts/PatrickHand-Regular.ttf',\n",
       " '../../DATASETS/Selected_Fonts/PatuaOne-Regular.ttf',\n",
       " '../../DATASETS/Selected_Fonts/Quicksand-Medium.ttf',\n",
       " '../../DATASETS/Selected_Fonts/Quicksand-Regular.ttf',\n",
       " '../../DATASETS/Selected_Fonts/Righteous-Regular.ttf',\n",
       " '../../DATASETS/Selected_Fonts/Roboto-Regular.ttf',\n",
       " '../../DATASETS/Selected_Fonts/Satisfy-Regular.ttf',\n",
       " '../../DATASETS/Selected_Fonts/SourceSerifPro-Italic.ttf',\n",
       " '../../DATASETS/Selected_Fonts/SourceSerifPro-Regular.ttf',\n",
       " '../../DATASETS/Selected_Fonts/WorkSans-Italic-VariableFont_wght.ttf',\n",
       " '../../DATASETS/Selected_Fonts/WorkSans-Italic.ttf',\n",
       " '../../DATASETS/Selected_Fonts/WorkSans-Medium.ttf',\n",
       " '../../DATASETS/Selected_Fonts/WorkSans-MediumItalic.ttf',\n",
       " '../../DATASETS/Selected_Fonts/WorkSans-Regular.ttf',\n",
       " '../../DATASETS/Selected_Fonts/WorkSans-VariableFont_wght.ttf']"
      ]
     },
     "execution_count": 25,
     "metadata": {},
     "output_type": "execute_result"
    }
   ],
   "source": [
    "fonts"
   ]
  },
  {
   "cell_type": "code",
   "execution_count": 26,
   "metadata": {},
   "outputs": [],
   "source": [
    "my_cmap = matplotlib.colors.ListedColormap(akbar_colors, name='my_colormap_name', N=45)"
   ]
  },
  {
   "cell_type": "code",
   "execution_count": 29,
   "metadata": {},
   "outputs": [
    {
     "name": "stdin",
     "output_type": "stream",
     "text": [
      "\n",
      "Enter the path of the NLP pkl files you've already saved:\n",
      " NLP_RESULTS\n",
      "\n",
      "You entered an invalid folder path; enter a valid folder!\n",
      " NLP_DIR\n"
     ]
    }
   ],
   "source": [
    "nlp_dir = input('''\n",
    "Enter the path of the NLP pkl files you've already saved:\n",
    "''')\n",
    "\n",
    "while Path(nlp_dir).is_dir() == False:\n",
    "    nlp_dir = input('''\n",
    "You entered an invalid folder path; enter a valid folder!\n",
    "''')"
   ]
  },
  {
   "cell_type": "code",
   "execution_count": 31,
   "metadata": {},
   "outputs": [],
   "source": [
    "dfs_pat =  [F'./{nlp_dir}/{i}' for i in os.listdir(F'{nlp_dir}/') if (( '_PAT_' in i) and (i.endswith('.pkl')))]"
   ]
  },
  {
   "cell_type": "code",
   "execution_count": 30,
   "metadata": {},
   "outputs": [],
   "source": [
    "dfs_pos =  [F'./{nlp_dir}/{i}' for i in os.listdir(F'{nlp_dir}/') if (( '_POS_' in i) and (i.endswith('.pkl')))]"
   ]
  },
  {
   "cell_type": "code",
   "execution_count": null,
   "metadata": {},
   "outputs": [],
   "source": []
  },
  {
   "cell_type": "markdown",
   "metadata": {},
   "source": [
    "```python\n",
    "exp_wordcloud_pat =  [f'''\n",
    "df = pd.read_pickle('{pkl}')\n",
    "dict_01 = dict(zip(df.TEXT, df.LEN))\n",
    "font = choice(fonts)\n",
    "font_name = font.split('/')[-1].split('.')[0]\n",
    "print(font_name)\n",
    "wordcloud = WordCloud(width=1920, height=1080, background_color=\"{choice(background_color)}\", colormap=my_cmap, font_path=font).generate_from_frequencies(dict_01)\n",
    "wordcloud.to_image()\n",
    "wordcloud.to_file('./TO_WORDCLOUDS/TYPE_{str(idx+1).zfill(2)}.png')\n",
    "#####################################\n",
    "'''.strip()\n",
    "for (idx, pkl) in enumerate(dfs_pot )]\n",
    "```"
   ]
  },
  {
   "cell_type": "code",
   "execution_count": 34,
   "metadata": {},
   "outputs": [
    {
     "data": {
      "text/plain": [
       "['./NLP_DIR/BATCH_01_PAT_NOUN.pkl',\n",
       " './NLP_DIR/BATCH_01_PAT_NOUN_VERB_PHRASE.pkl',\n",
       " './NLP_DIR/BATCH_01_PAT_N_N.pkl',\n",
       " './NLP_DIR/BATCH_01_PAT_N_P_V.pkl',\n",
       " './NLP_DIR/BATCH_01_PAT_VERB_NOUN_PHRASE.pkl']"
      ]
     },
     "execution_count": 34,
     "metadata": {},
     "output_type": "execute_result"
    }
   ],
   "source": [
    "dfs_pat"
   ]
  },
  {
   "cell_type": "code",
   "execution_count": 35,
   "metadata": {},
   "outputs": [
    {
     "data": {
      "text/plain": [
       "['./NLP_DIR/BATCH_01_POS_ADJECTIVES.pkl',\n",
       " './NLP_DIR/BATCH_01_POS_ADVERBS.pkl',\n",
       " './NLP_DIR/BATCH_01_POS_NOUNS.pkl',\n",
       " './NLP_DIR/BATCH_01_POS_VERBS.pkl']"
      ]
     },
     "execution_count": 35,
     "metadata": {},
     "output_type": "execute_result"
    }
   ],
   "source": [
    "dfs_pos"
   ]
  },
  {
   "cell_type": "code",
   "execution_count": null,
   "metadata": {},
   "outputs": [],
   "source": []
  },
  {
   "cell_type": "code",
   "execution_count": 38,
   "metadata": {},
   "outputs": [],
   "source": [
    "exp_wordcloud_pos =  [f'''\n",
    "df = pd.read_pickle('{pkl}')\n",
    "dict_01 = dict(zip(df.TEXT, df.FREQ))\n",
    "font = choice(fonts)\n",
    "font_name = font.split('/')[-1].split('.')[0]\n",
    "print(font_name)\n",
    "wordcloud = WordCloud(width=1920, height=1080, background_color=\"{choice(background_color)}\", colormap=my_cmap, font_path=font).generate_from_frequencies(dict_01)\n",
    "wordcloud.to_image()\n",
    "wordcloud.to_file('./{wc_dir}/TYPE_POS_{str(idx+1).zfill(2)}.png')\n",
    "#####################################\n",
    "'''.strip()\n",
    "for (idx, pkl) in enumerate(dfs_pos)]"
   ]
  },
  {
   "cell_type": "code",
   "execution_count": null,
   "metadata": {},
   "outputs": [],
   "source": []
  },
  {
   "cell_type": "markdown",
   "metadata": {},
   "source": [
    "```PYTHOn\n",
    "for exp in exp_wordcloud_pos:\n",
    "    exec(exp)\n",
    "```    "
   ]
  },
  {
   "cell_type": "code",
   "execution_count": 39,
   "metadata": {},
   "outputs": [
    {
     "name": "stdout",
     "output_type": "stream",
     "text": [
      "Lora-Italic\n",
      "PatrickHand-Regular\n",
      "EBGaramond-VariableFont_wght\n",
      "JosefinSans-MediumItalic\n"
     ]
    }
   ],
   "source": [
    "for exp in exp_wordcloud_pos:\n",
    "    exec(exp)"
   ]
  },
  {
   "cell_type": "code",
   "execution_count": 42,
   "metadata": {},
   "outputs": [],
   "source": [
    "exp_wordcloud_pat = [\n",
    "f\"\"\"\n",
    "df = pd.read_pickle(dfs_pat[0])\n",
    "df = df.groupby(['LEMMA'], as_index=False).agg({{'TEXT': lambda x : x.tolist()}}).reset_index(drop=True)\n",
    "df['FREQ'] = df.TEXT.apply(lambda x: list(Counter(x).most_common())[0][1])\n",
    "df['TEXT'] = df.TEXT.apply(lambda x: list(Counter(x).most_common())[0][0])\n",
    "df = df.sort_values(['FREQ'], ascending=False).reset_index(drop=True)\n",
    "\n",
    "dict_01 = dict(zip(df.TEXT, df.FREQ))\n",
    "font = choice(fonts)\n",
    "font_name = font.split('/')[-1].split('.')[0]\n",
    "print(font_name)\n",
    "wordcloud = WordCloud(width=1920, height=1080, background_color=\"{choice(background_color)}\", colormap=my_cmap, font_path=font).generate_from_frequencies(dict_01)\n",
    "wordcloud.to_image()\n",
    "wordcloud.to_file('./{wc_dir}/TYPE_PAT_{str(idx+1).zfill(2)}.png')\n",
    "#####################################\n",
    "\"\"\".strip() for (idx, pkl) in enumerate(dfs_pat)]"
   ]
  },
  {
   "cell_type": "code",
   "execution_count": 43,
   "metadata": {},
   "outputs": [
    {
     "name": "stdout",
     "output_type": "stream",
     "text": [
      "BalsamiqSans-Regular\n",
      "-----------------------\n",
      "Righteous-Regular\n",
      "-----------------------\n",
      "WorkSans-Medium\n",
      "-----------------------\n",
      "ConcertOne-Regular\n",
      "-----------------------\n",
      "EBGaramond-VariableFont_wght\n",
      "-----------------------\n"
     ]
    }
   ],
   "source": [
    "for exp in exp_wordcloud_pat:\n",
    "    exec(exp)\n",
    "    print('-----------------------')"
   ]
  },
  {
   "cell_type": "markdown",
   "metadata": {},
   "source": [
    "# MAKING MULTIPLE WORDCLOUDS OF HUGE DFs"
   ]
  },
  {
   "cell_type": "code",
   "execution_count": 45,
   "metadata": {},
   "outputs": [],
   "source": [
    "exp_pat =  [f'''\n",
    "df = pd.read_pickle('{pkl}')\n",
    "pkl_name = f'{pkl}'.split('/')[-1].split('.')[0]\n",
    "print(f'{{pkl_name}}')\n",
    "no_split = int(len(df) // 200)\n",
    "\n",
    "\n",
    "if no_split < 1:\n",
    "    no_split += 1\n",
    "print(no_split)\n",
    "\n",
    "for lim in range(no_split):\n",
    "    low = lim * 200\n",
    "    hi = (lim+1) * 200\n",
    "    print(f'Low: {{low}}')\n",
    "    print(f'High: {{hi}}')\n",
    "    print('*********************')\n",
    "    df[low:hi].to_pickle(f'./DFS_LIM_200/{{pkl_name}}_{{str(lim+1).zfill(2)}}.pkl', protocol=4)\n",
    "#####################################\n",
    "'''.strip()\n",
    "for (idx, pkl) in enumerate(dfs_pat)]"
   ]
  },
  {
   "cell_type": "markdown",
   "metadata": {},
   "source": [
    "```python\n",
    "for i in exp_pat:\n",
    "    exec(i)\n",
    "    print('--------------')\n",
    "```    "
   ]
  },
  {
   "cell_type": "code",
   "execution_count": null,
   "metadata": {},
   "outputs": [],
   "source": []
  },
  {
   "cell_type": "code",
   "execution_count": null,
   "metadata": {},
   "outputs": [],
   "source": []
  },
  {
   "cell_type": "code",
   "execution_count": null,
   "metadata": {},
   "outputs": [],
   "source": []
  }
 ],
 "metadata": {
  "kernelspec": {
   "display_name": "Python 3",
   "language": "python",
   "name": "python3"
  },
  "language_info": {
   "codemirror_mode": {
    "name": "ipython",
    "version": 3
   },
   "file_extension": ".py",
   "mimetype": "text/x-python",
   "name": "python",
   "nbconvert_exporter": "python",
   "pygments_lexer": "ipython3",
   "version": "3.8.7"
  }
 },
 "nbformat": 4,
 "nbformat_minor": 4
}
